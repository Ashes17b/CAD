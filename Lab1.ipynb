{
 "cells": [
  {
   "cell_type": "markdown",
   "metadata": {
    "raw_mimetype": "-",
    "slideshow": {
     "slide_type": "notes"
    }
   },
   "source": [
    "## 1. Осуществить моделирование n = 1000 реализаций случайной величины из нормального закона распределения N(m, s^2) с заданными параметрами."
   ]
  },
  {
   "cell_type": "code",
   "execution_count": 1,
   "metadata": {},
   "outputs": [
    {
     "data": {
      "image/png": "[encoded data removed]",
      "text/plain": [
       "<Figure size 432x288 with 1 Axes>"
      ]
     },
     "metadata": {},
     "output_type": "display_data"
    }
   ],
   "source": [
    "%matplotlib inline\n",
    "import pandas as pd\n",
    "import numpy as np\n",
    "from scipy.stats import norm\n",
    "import matplotlib.pyplot as plt\n",
    "\n",
    "# Generate some data for this demonstration.\n",
    "data = norm.rvs(0, 3, size=1000)\n",
    "\n",
    "# Fit a normal distribution to the data:\n",
    "mu, std = norm.fit(data)\n",
    "\n",
    "# Plot the histogram.\n",
    "plt.hist(data, bins=25, density=True, alpha=0.6, color='g')\n",
    "\n",
    "# Plot the PDF.\n",
    "xmin, xmax = plt.xlim()\n",
    "x = np.linspace(xmin, xmax, 100)\n",
    "p = norm.pdf(x, mu, std)\n",
    "plt.plot(x, p, 'k', linewidth=2)\n",
    "title = \"Fit results: mu = %.2f,  std = %.2f\" % (mu, std)\n",
    "plt.title(title)\n",
    "\n",
    "plt.show()"
   ]
  },
  {
   "cell_type": "markdown",
   "metadata": {},
   "source": [
    "### Провести статистический анализ полученной выборки: \n",
    "### 1) Вывести числовые статистики"
   ]
  },
  {
   "cell_type": "code",
   "execution_count": 2,
   "metadata": {},
   "outputs": [],
   "source": [
    "#Для возможности предобработки данных (например, исключения нечисловых значений) \n",
    "\n",
    "_data = data"
   ]
  },
  {
   "cell_type": "code",
   "execution_count": 3,
   "metadata": {},
   "outputs": [
    {
     "data": {
      "text/plain": [
       "0.11156207915473788"
      ]
     },
     "execution_count": 3,
     "metadata": {},
     "output_type": "execute_result"
    }
   ],
   "source": [
    "#Среднее\n",
    "\n",
    "np.mean(_data)"
   ]
  },
  {
   "cell_type": "code",
   "execution_count": 4,
   "metadata": {},
   "outputs": [
    {
     "data": {
      "text/plain": [
       "(-9.073112830775221, 10.417620382737109)"
      ]
     },
     "execution_count": 4,
     "metadata": {},
     "output_type": "execute_result"
    }
   ],
   "source": [
    "#Минимальный и максимальный элемент\n",
    "\n",
    "(np.min(_data), np.max(_data))"
   ]
  },
  {
   "cell_type": "code",
   "execution_count": 5,
   "metadata": {},
   "outputs": [
    {
     "data": {
      "text/plain": [
       "3.013226223223383"
      ]
     },
     "execution_count": 5,
     "metadata": {},
     "output_type": "execute_result"
    }
   ],
   "source": [
    "#Стандартное отклонение\n",
    "\n",
    "np.std(_data)"
   ]
  },
  {
   "cell_type": "code",
   "execution_count": 6,
   "metadata": {},
   "outputs": [
    {
     "data": {
      "text/plain": [
       "0.07584300893472723"
      ]
     },
     "execution_count": 6,
     "metadata": {},
     "output_type": "execute_result"
    }
   ],
   "source": [
    "#Медиана\n",
    "\n",
    "np.median(_data)"
   ]
  },
  {
   "cell_type": "code",
   "execution_count": 7,
   "metadata": {},
   "outputs": [
    {
     "data": {
      "text/plain": [
       "4.226264571531269"
      ]
     },
     "execution_count": 7,
     "metadata": {},
     "output_type": "execute_result"
    }
   ],
   "source": [
    "#Межквартильный размах(Interquartile range)\n",
    "from scipy.stats import iqr\n",
    "\n",
    "iqr(_data)"
   ]
  },
  {
   "cell_type": "code",
   "execution_count": 8,
   "metadata": {},
   "outputs": [
    {
     "data": {
      "text/plain": [
       "ModeResult(mode=array([-9.07311283]), count=array([1]))"
      ]
     },
     "execution_count": 8,
     "metadata": {},
     "output_type": "execute_result"
    }
   ],
   "source": [
    "#Мода\n",
    "import scipy.stats as st\n",
    "\n",
    "st.mode(_data)"
   ]
  },
  {
   "cell_type": "code",
   "execution_count": 9,
   "metadata": {},
   "outputs": [
    {
     "data": {
      "text/plain": [
       "0.04246426990136706"
      ]
     },
     "execution_count": 9,
     "metadata": {},
     "output_type": "execute_result"
    }
   ],
   "source": [
    "#Асимметрия\n",
    "\n",
    "st.skew(_data)"
   ]
  },
  {
   "cell_type": "code",
   "execution_count": 10,
   "metadata": {},
   "outputs": [
    {
     "data": {
      "text/plain": [
       "-0.25987023278472776"
      ]
     },
     "execution_count": 10,
     "metadata": {},
     "output_type": "execute_result"
    }
   ],
   "source": [
    "#Эксцесс\n",
    "\n",
    "st.kurtosis(_data)"
   ]
  },
  {
   "cell_type": "markdown",
   "metadata": {},
   "source": [
    "### 2) Вывести гистограмму. \"ящик с усами\", график \"квантиль-квантиль\""
   ]
  },
  {
   "cell_type": "code",
   "execution_count": 11,
   "metadata": {},
   "outputs": [
    {
     "data": {
      "image/png": "[encoded data removed]",
      "text/plain": [
       "<Figure size 432x288 with 1 Axes>"
      ]
     },
     "metadata": {},
     "output_type": "display_data"
    }
   ],
   "source": [
    "#\"Ящик с усами\" (BoxPlot)\n",
    "\n",
    "fig, ax = plt.subplots()\n",
    "ax.boxplot(_data)\n",
    "plt.show()"
   ]
  },
  {
   "cell_type": "code",
   "execution_count": 12,
   "metadata": {},
   "outputs": [
    {
     "data": {
      "image/png": "[encoded data removed]",
      "text/plain": [
       "<Figure size 432x288 with 1 Axes>"
      ]
     },
     "metadata": {},
     "output_type": "display_data"
    }
   ],
   "source": [
    "#График \"квантиль-квантиль\"\n",
    "\n",
    "st.probplot(_data, dist=\"norm\", plot=plt)\n",
    "plt.show()"
   ]
  },
  {
   "cell_type": "markdown",
   "metadata": {},
   "source": [
    "### 3) Применить критерий Колмогорова-Смирнова и x^2 критерий Пирсона для тестирования гипотез согласия."
   ]
  },
  {
   "cell_type": "code",
   "execution_count": 13,
   "metadata": {},
   "outputs": [
    {
     "data": {
      "text/plain": [
       "KstestResult(statistic=0.029590929687799084, pvalue=0.3403499461371895)"
      ]
     },
     "execution_count": 13,
     "metadata": {},
     "output_type": "execute_result"
    }
   ],
   "source": [
    "#Критерий Колмогорова-Смирнова\n",
    "\n",
    "st.kstest(_data, 'norm', args=(0, 3))"
   ]
  },
  {
   "cell_type": "code",
   "execution_count": 14,
   "metadata": {},
   "outputs": [
    {
     "data": {
      "text/plain": [
       "(0.05207696316205309, 0.09978942501674759)"
      ]
     },
     "execution_count": 14,
     "metadata": {},
     "output_type": "execute_result"
    }
   ],
   "source": [
    "#Критерий хи-квадрат Пирсона(Pearson)\n",
    "\n",
    "normTest = st.norm(0, 3).rvs(1000)\n",
    "st.pearsonr(_data, normTest)"
   ]
  },
  {
   "cell_type": "markdown",
   "metadata": {},
   "source": [
    "## 2. Смоделировать n = 1000 случайных величин из заданных абсолютно непрерывных распределений согласно варианту(chi-squared distribution)"
   ]
  },
  {
   "cell_type": "code",
   "execution_count": 15,
   "metadata": {},
   "outputs": [
    {
     "data": {
      "image/png": "[encoded data removed]",
      "text/plain": [
       "<Figure size 432x288 with 1 Axes>"
      ]
     },
     "metadata": {},
     "output_type": "display_data"
    }
   ],
   "source": [
    "# Generate some data for this demonstration.\n",
    "data = st.chi2.rvs(2, size=1000)\n",
    "\n",
    "# Fit a normal distribution to the data:\n",
    "mu, std = norm.fit(data)\n",
    "\n",
    "# Plot the histogram.\n",
    "plt.hist(data, bins=25, density=True, alpha=0.6, color='g')\n",
    "\n",
    "# Plot the PDF.\n",
    "xmin, xmax = plt.xlim()\n",
    "x = np.linspace(xmin, xmax, 100)\n",
    "p = norm.pdf(x, mu, std)\n",
    "plt.plot(x, p, 'k', linewidth=2)\n",
    "title = \"Chi-square distribution\"\n",
    "plt.title(title)\n",
    "\n",
    "plt.show()"
   ]
  },
  {
   "cell_type": "markdown",
   "metadata": {},
   "source": [
    "### Провести статистический анализ полученной выборки: \n",
    "### 1) Вывести числовые статистики"
   ]
  },
  {
   "cell_type": "code",
   "execution_count": 16,
   "metadata": {},
   "outputs": [],
   "source": [
    "#Для возможности предобработки данных (например, исключения нечисловых значений) \n",
    "\n",
    "_data = data"
   ]
  },
  {
   "cell_type": "code",
   "execution_count": 17,
   "metadata": {},
   "outputs": [
    {
     "data": {
      "text/plain": [
       "2.0381295524300507"
      ]
     },
     "execution_count": 17,
     "metadata": {},
     "output_type": "execute_result"
    }
   ],
   "source": [
    "#Среднее\n",
    "\n",
    "np.mean(_data)"
   ]
  },
  {
   "cell_type": "code",
   "execution_count": 18,
   "metadata": {},
   "outputs": [
    {
     "data": {
      "text/plain": [
       "(0.001332629036519158, 13.38145145730612)"
      ]
     },
     "execution_count": 18,
     "metadata": {},
     "output_type": "execute_result"
    }
   ],
   "source": [
    "#Минимальный и максимальный элемент\n",
    "\n",
    "(np.min(_data), np.max(_data))"
   ]
  },
  {
   "cell_type": "code",
   "execution_count": 19,
   "metadata": {},
   "outputs": [
    {
     "data": {
      "text/plain": [
       "1.9214429303912886"
      ]
     },
     "execution_count": 19,
     "metadata": {},
     "output_type": "execute_result"
    }
   ],
   "source": [
    "#Стандартное отклонение\n",
    "\n",
    "np.std(_data)"
   ]
  },
  {
   "cell_type": "code",
   "execution_count": 20,
   "metadata": {},
   "outputs": [
    {
     "data": {
      "text/plain": [
       "1.4807878787795312"
      ]
     },
     "execution_count": 20,
     "metadata": {},
     "output_type": "execute_result"
    }
   ],
   "source": [
    "#Медиана\n",
    "\n",
    "np.median(_data)"
   ]
  },
  {
   "cell_type": "code",
   "execution_count": 21,
   "metadata": {},
   "outputs": [
    {
     "data": {
      "text/plain": [
       "2.223418173997709"
      ]
     },
     "execution_count": 21,
     "metadata": {},
     "output_type": "execute_result"
    }
   ],
   "source": [
    "#Межквартильный размах(Interquartile range)\n",
    "from scipy.stats import iqr\n",
    "\n",
    "iqr(_data)"
   ]
  },
  {
   "cell_type": "code",
   "execution_count": 22,
   "metadata": {},
   "outputs": [
    {
     "data": {
      "text/plain": [
       "ModeResult(mode=array([0.00133263]), count=array([1]))"
      ]
     },
     "execution_count": 22,
     "metadata": {},
     "output_type": "execute_result"
    }
   ],
   "source": [
    "#Мода\n",
    "import scipy.stats as st\n",
    "\n",
    "st.mode(_data)"
   ]
  },
  {
   "cell_type": "code",
   "execution_count": 23,
   "metadata": {},
   "outputs": [
    {
     "data": {
      "text/plain": [
       "1.7201615294483514"
      ]
     },
     "execution_count": 23,
     "metadata": {},
     "output_type": "execute_result"
    }
   ],
   "source": [
    "#Асимметрия\n",
    "\n",
    "st.skew(_data)"
   ]
  },
  {
   "cell_type": "code",
   "execution_count": 24,
   "metadata": {},
   "outputs": [
    {
     "data": {
      "text/plain": [
       "3.819375074666473"
      ]
     },
     "execution_count": 24,
     "metadata": {},
     "output_type": "execute_result"
    }
   ],
   "source": [
    "#Эксцесс\n",
    "\n",
    "st.kurtosis(_data)"
   ]
  },
  {
   "cell_type": "markdown",
   "metadata": {},
   "source": [
    "### 2) Вывести гистограмму. \"ящик с усами\", график \"квантиль-квантиль\""
   ]
  },
  {
   "cell_type": "code",
   "execution_count": 25,
   "metadata": {},
   "outputs": [
    {
     "data": {
      "image/png": "[encoded data removed]",
      "text/plain": [
       "<Figure size 432x288 with 1 Axes>"
      ]
     },
     "metadata": {},
     "output_type": "display_data"
    }
   ],
   "source": [
    "#\"Ящик с усами\" (BoxPlot)\n",
    "\n",
    "fig, ax = plt.subplots()\n",
    "ax.boxplot(_data)\n",
    "plt.show()"
   ]
  },
  {
   "cell_type": "code",
   "execution_count": 26,
   "metadata": {},
   "outputs": [
    {
     "data": {
      "image/png": "[encoded data removed]",
      "text/plain": [
       "<Figure size 432x288 with 1 Axes>"
      ]
     },
     "metadata": {},
     "output_type": "display_data"
    }
   ],
   "source": [
    "#График \"квантиль-квантиль\"\n",
    "\n",
    "st.probplot(_data, plot=plt)\n",
    "plt.show()"
   ]
  },
  {
   "cell_type": "markdown",
   "metadata": {},
   "source": [
    "### 3) Применить критерий Колмогорова-Смирнова и x^2 критерий Пирсона для тестирования гипотез согласия."
   ]
  },
  {
   "cell_type": "code",
   "execution_count": 27,
   "metadata": {},
   "outputs": [
    {
     "data": {
      "text/plain": [
       "Ks_2sampResult(statistic=0.05199999999999999, pvalue=0.12984378016123646)"
      ]
     },
     "execution_count": 27,
     "metadata": {},
     "output_type": "execute_result"
    }
   ],
   "source": [
    "#Критерий Колмогорова-Смирнова\n",
    "\n",
    "testChi2 = st.chi2.rvs(2, size=1000)\n",
    "st.ks_2samp(_data, testChi2)\n",
    "#st.kstest(_data, 'chi2', args=(2, 3))"
   ]
  },
  {
   "cell_type": "code",
   "execution_count": 28,
   "metadata": {},
   "outputs": [
    {
     "data": {
      "text/plain": [
       "(0.011033139517895077, 0.7274851840930115)"
      ]
     },
     "execution_count": 28,
     "metadata": {},
     "output_type": "execute_result"
    }
   ],
   "source": [
    "#Критерий хи-квадрат Пирсона(Pearson)\n",
    "\n",
    "chi2Test = st.chi2.rvs(2, size=1000)\n",
    "st.pearsonr(_data, chi2Test)"
   ]
  },
  {
   "cell_type": "markdown",
   "metadata": {},
   "source": [
    "## 3. Смоделировать выборку с засорениями объемом n = 1000 случайных величин. В качестве основного распределения взять нормальное распределение из задания 1.1, а засоряющего - распределение из задания 1.2 (согласно варианту). Использовать уровень засорения 5%(доля засоряющих значений в выборке)"
   ]
  },
  {
   "cell_type": "code",
   "execution_count": 29,
   "metadata": {},
   "outputs": [
    {
     "data": {
      "text/plain": [
       "array([-3.84184712e+00,  2.25241238e+00, -4.32917652e+00, -2.16233691e-01,\n",
       "        7.96349566e-01,  1.80737237e-01,  3.41120881e-01,  9.70364937e-01,\n",
       "       -3.33137778e+00,  7.22443087e-01, -6.51485115e+00,  5.50432437e+00,\n",
       "       -4.36459981e+00, -3.99560354e+00, -1.02291772e+00,  3.27445886e-01,\n",
       "       -2.48776277e+00,  1.96171880e+00,  2.98036337e-01,  1.86170251e+00,\n",
       "        3.73555422e+00,  1.33868333e+00, -4.78239812e+00, -3.14863148e+00,\n",
       "        2.34754598e+00,  1.50839207e+00,  3.82675857e+00,  9.46541618e-01,\n",
       "       -3.65316883e+00,  2.96571687e+00,  2.35734275e+00,  4.80987248e-03,\n",
       "       -2.96457725e+00, -6.18442724e+00,  3.71591809e-01, -1.10759143e+00,\n",
       "        1.33829539e-01,  3.82343613e+00,  2.20974903e+00,  2.46309951e+00,\n",
       "       -2.66258543e+00,  4.37084497e+00, -1.32032181e+00,  3.94563450e-01,\n",
       "        8.27332925e+00, -1.00471256e+00, -4.47416679e+00, -2.03162144e+00,\n",
       "        1.64393681e+00, -3.98332254e+00, -1.35848500e-01,  3.35569918e+00,\n",
       "        5.36703581e+00,  4.34348811e-01, -6.49454456e+00,  4.85815304e+00,\n",
       "        2.02684874e+00, -4.03941823e+00,  2.32850290e+00, -1.86831894e+00,\n",
       "       -1.72453397e-01,  5.77798942e+00,  1.92975049e-01, -2.16333057e+00,\n",
       "       -6.53700065e-01,  1.11843601e+00, -2.50984907e+00,  6.81524846e+00,\n",
       "        3.99998547e+00, -2.57730917e+00, -3.62222201e+00, -2.39991161e+00,\n",
       "       -1.55261677e+00, -1.78925318e+00, -4.65199679e+00, -4.74487313e+00,\n",
       "        6.41629159e-01, -9.30682098e-01, -1.79974761e-01,  7.30325813e-01,\n",
       "       -2.32766981e+00, -5.14228367e+00,  2.39800406e+00, -3.74927901e+00,\n",
       "       -1.10543014e+00, -5.26417473e+00,  5.46481825e+00, -2.54177474e+00,\n",
       "        4.39457398e-01,  1.55471871e+00, -3.06688308e+00, -7.61331711e-01,\n",
       "        3.83159130e+00,  2.78180384e-01, -4.14186912e+00, -4.67371007e+00,\n",
       "        3.45321336e+00, -3.38391956e+00, -7.60454897e-01,  6.23023804e-01,\n",
       "        1.68861628e+00, -3.50729876e+00, -2.38150283e+00,  3.57164341e+00,\n",
       "        3.08580840e+00, -5.75702478e+00,  6.00183397e-01, -2.82020238e+00,\n",
       "       -2.89101902e+00,  3.18466445e+00,  3.39512234e+00,  1.55409769e+00,\n",
       "       -1.81588489e+00, -3.20577481e+00, -1.48689779e+00,  1.02028094e+00,\n",
       "       -3.87323616e+00,  8.78233755e-02,  7.14743081e+00, -2.02006987e-01,\n",
       "       -1.54503821e+00,  1.78569142e+00, -1.71394586e+00, -3.53204448e+00,\n",
       "       -2.23619381e-02,  3.18532306e+00,  5.95593691e+00,  1.52452114e+00,\n",
       "        1.71559604e+00, -3.95915447e+00, -5.28821068e+00, -4.55921706e-01,\n",
       "        1.96153365e-01,  7.60467044e-01,  2.33328120e+00,  1.57384295e+00,\n",
       "       -3.26524957e-01,  1.01725397e+00,  2.16032233e+00, -2.77427158e+00,\n",
       "        8.30037186e-02,  1.72066475e+00, -9.20598733e-01, -5.83889016e+00,\n",
       "       -7.04015525e-01,  3.36776857e+00, -3.17777995e-01, -4.47578217e-01,\n",
       "       -3.38117506e+00, -7.50632343e-01,  6.88019786e+00,  2.70448076e+00,\n",
       "       -2.94881385e+00, -3.15268401e-02,  3.10949831e+00, -3.29582008e-01,\n",
       "        6.23339616e-01, -3.13545211e+00, -4.68765094e+00, -2.68006470e+00,\n",
       "       -3.19323593e+00, -4.00122495e+00,  5.32835004e+00,  3.05347520e+00,\n",
       "        2.12558968e+00,  8.89746162e-01, -1.90941620e+00, -8.05063765e-01,\n",
       "        4.58195819e+00, -6.58455579e-01,  3.71216531e+00, -3.91735313e+00,\n",
       "        1.39794690e+00,  1.65941803e+00,  2.53839471e+00, -5.54137231e+00,\n",
       "       -1.26246294e+00,  1.39334269e-01,  9.24755829e-01, -1.40235422e+00,\n",
       "        4.10836325e-01, -1.59381807e+00,  1.28175798e+00,  1.70365919e+00,\n",
       "        2.99986746e+00,  1.74440459e+00,  3.28352222e+00,  6.30038460e+00,\n",
       "       -2.53998102e-01, -2.83901742e+00, -5.05165579e+00,  3.16253180e-01,\n",
       "       -2.64257646e+00,  2.43374622e+00,  3.36046535e+00, -1.29617659e+00,\n",
       "        6.35909486e+00,  2.33187608e+00, -1.32624303e+00, -5.97337272e+00,\n",
       "        3.13581285e+00,  7.38140158e+00,  5.25381900e-01,  4.95556646e+00,\n",
       "        2.19669452e+00, -2.64775395e+00, -1.07295292e+00,  1.36464482e+00,\n",
       "        1.76414688e+00, -1.79506965e+00,  3.04316254e+00, -4.92150887e+00,\n",
       "        2.25036093e+00, -3.08151878e+00,  4.16128044e+00,  1.71979491e+00,\n",
       "       -8.73900507e-01, -1.24438012e+00, -3.47424123e+00, -2.46646496e+00,\n",
       "        1.57001671e+00, -9.23928242e-01,  2.65241870e+00,  2.73860080e-01,\n",
       "       -5.28921425e-01,  1.74581873e+00,  4.04888726e+00, -5.11311109e+00,\n",
       "       -1.36255910e+00,  4.91354459e-01,  2.96361690e-01, -5.76109827e+00,\n",
       "       -5.34776762e+00, -1.15682264e+00, -3.31912392e+00,  3.65987171e-01,\n",
       "       -2.63713922e+00,  1.25428573e-01,  2.86344135e+00,  2.15340475e+00,\n",
       "        1.22218676e+00,  6.32215832e+00,  3.28865539e+00,  7.21382828e+00,\n",
       "        3.48670114e+00,  2.81891729e+00,  1.57825384e+00,  1.17202640e+00,\n",
       "        1.88754095e+00, -7.53419154e+00,  4.77589703e-01, -2.29764078e+00,\n",
       "       -2.31262488e+00,  1.66545390e+00,  2.49723679e+00, -2.74372698e+00,\n",
       "        5.06315465e+00, -1.25678172e+00, -1.79411398e+00,  8.94232947e-02,\n",
       "       -1.21776875e+00, -2.73644874e+00,  3.57770514e-01,  3.96536251e+00,\n",
       "       -4.01474101e+00,  2.76439168e+00, -2.03352367e+00,  1.39549861e+00,\n",
       "       -1.15646358e+00,  2.01562237e+00,  6.29864868e+00, -2.30045666e+00,\n",
       "       -8.54700247e+00,  1.54448730e+00,  1.73714478e+00,  3.31220309e-02,\n",
       "       -2.54696728e+00, -2.16193664e+00, -4.74016798e-01, -9.93275705e-01,\n",
       "        5.95964547e-01,  2.99378021e-01,  2.15238372e-01, -6.88619808e+00,\n",
       "        2.60119985e+00, -1.88651381e+00,  4.76977709e+00, -6.31496391e-01,\n",
       "        4.65921800e+00, -8.11343387e-01,  4.42325502e+00,  5.51868766e+00,\n",
       "       -5.85041790e+00, -2.96137104e+00, -5.01236554e+00, -1.18011986e+00,\n",
       "        1.02773072e+00,  3.14713309e+00, -2.27912646e+00, -2.73664766e+00,\n",
       "        4.17180563e+00,  7.41630618e-01,  9.24522098e+00, -2.34470249e+00,\n",
       "        8.58036746e-01,  9.29926378e-01, -1.34305367e+00, -4.13489252e+00,\n",
       "       -1.20837866e+00, -1.77619240e-01, -1.64912675e+00,  1.38784781e+00,\n",
       "        5.77053725e+00,  2.07027554e+00, -3.53465196e+00, -2.54409159e+00,\n",
       "       -2.37541974e+00, -3.79354098e-02, -1.82436241e+00,  6.43513027e-01,\n",
       "       -5.31243750e+00, -4.42756851e+00,  3.85125659e+00, -5.94246610e-01,\n",
       "       -3.63433024e+00, -4.78599704e-01, -1.89375125e+00, -3.41145573e-01,\n",
       "        4.30653846e+00,  3.67266197e+00, -1.29937333e+00,  1.06548297e+00,\n",
       "        1.07958730e+00, -2.69767304e+00,  4.18067550e+00,  2.37697902e+00,\n",
       "       -2.68960549e+00,  3.89090004e+00,  2.82387883e-01,  2.79882806e+00,\n",
       "       -1.58221692e+00,  2.18515236e+00,  2.02587260e+00, -1.38030471e+00,\n",
       "        1.51770246e+00,  2.40512265e+00,  2.50274399e+00, -1.35215507e+00,\n",
       "       -3.49795279e+00,  3.24309950e+00, -1.80628369e-01,  5.81590631e-01,\n",
       "       -4.77153354e+00,  3.72784403e+00,  2.37519269e+00, -2.64766723e+00,\n",
       "       -3.67312750e+00,  5.71483551e-01, -6.06474069e-01, -4.63605738e+00,\n",
       "        2.71837700e+00, -2.25971845e+00,  2.98072841e-02,  1.12860294e+00,\n",
       "        2.72804093e+00, -7.34535992e-01,  3.89230364e+00,  3.53385201e+00,\n",
       "       -5.65890712e-01,  9.11219334e-01, -1.51775471e+00,  1.27753243e+00,\n",
       "        2.74674833e+00,  1.34829679e+00, -1.33963740e+00,  1.96109429e-02,\n",
       "        1.43167252e+00,  3.12580695e+00, -3.37500359e+00,  3.76317164e+00,\n",
       "       -1.76679580e+00, -4.20487582e+00, -4.04329906e-01, -1.21402843e+00,\n",
       "        2.09446896e-01, -2.77746325e+00,  2.21712632e+00,  1.11738659e+00,\n",
       "       -2.06466338e+00,  3.61998294e+00,  4.32009547e+00, -2.01639687e+00,\n",
       "       -4.53743402e+00,  5.61185247e-01, -2.50644923e+00,  1.98770469e+00,\n",
       "       -9.44883009e-01,  2.59046276e+00, -1.09047037e+00, -1.35520638e+00,\n",
       "        3.07704727e+00, -2.21040798e+00, -4.25433371e+00, -3.81443417e+00,\n",
       "       -5.12021292e+00,  2.16842183e+00, -5.13130795e+00,  2.98400325e+00,\n",
       "        2.69544054e+00, -3.72994730e+00, -9.90562302e-01,  2.53937714e-01,\n",
       "       -3.52464771e+00,  1.78130134e+00,  4.48559858e+00, -1.11155407e+00,\n",
       "       -3.91407285e+00,  3.44356457e+00, -3.07270934e-01,  3.20980882e+00,\n",
       "       -5.42627535e+00,  2.66789204e+00, -3.65788564e+00, -3.06724477e-01,\n",
       "       -1.28355798e+00,  2.58468946e+00,  8.37148511e-01, -2.04694701e-02,\n",
       "       -3.89250991e+00, -2.74386452e+00, -4.24982352e+00, -4.22876553e+00,\n",
       "       -1.17642200e+00,  5.65379092e-01,  1.49214298e+00, -1.97112788e+00,\n",
       "       -8.22233343e+00, -2.94628830e+00,  3.45740692e-01, -5.00563176e+00,\n",
       "        1.74307335e-01, -1.91459743e+00, -9.59756895e-01,  8.12156124e-01,\n",
       "        3.33451343e+00,  1.40568543e+00, -2.30976324e+00, -1.46053545e-01,\n",
       "        1.75930641e+00, -3.44957525e+00,  2.46897621e-01,  2.81309432e+00,\n",
       "        1.65377949e+00, -4.59973119e+00,  1.47427975e+00, -1.20113294e-01,\n",
       "        2.21324375e+00,  2.60118683e+00,  8.91164982e-01, -2.82967941e+00,\n",
       "        2.76519470e+00, -4.78197802e+00,  4.70815351e+00,  6.09759800e-01,\n",
       "        6.43197157e+00, -3.07226855e+00, -1.21840891e+00, -1.97620614e+00,\n",
       "        3.42052112e+00,  1.19967042e+00, -8.79489172e+00,  4.07823766e+00,\n",
       "       -4.04133227e+00,  3.32770540e+00, -2.96960658e+00,  1.18301638e+00,\n",
       "        6.66401280e-01, -2.13551240e+00,  5.06618499e+00,  3.13088192e-01,\n",
       "        1.37225957e-01,  1.33555379e+00,  6.26102919e-01, -3.33204244e+00,\n",
       "        2.76797090e+00,  6.22394504e+00, -2.21168923e+00,  4.53346179e-01,\n",
       "        1.78107335e+00,  6.93367911e-01, -2.68654188e+00,  4.40761428e-01,\n",
       "        3.44028292e+00,  9.77573845e-01,  2.97546886e+00, -1.73797300e+00,\n",
       "        2.32818853e+00, -2.28943553e+00, -4.36060372e-01,  1.42030530e+00,\n",
       "        1.13456317e+00, -1.18104530e+00, -2.85550542e+00,  1.94985086e+00,\n",
       "       -1.71455217e+00,  4.18398528e+00,  5.09431792e+00, -2.38464167e+00,\n",
       "       -4.94968480e-01, -1.59696920e+00, -3.04733449e+00,  2.27997293e+00,\n",
       "       -3.30203322e+00,  1.52104606e+00, -5.02407373e-01,  1.15580336e+00,\n",
       "        2.70951842e+00, -3.43969410e+00, -6.95493907e-01, -2.51889744e-01,\n",
       "       -5.01598025e-01, -3.93723711e-01,  3.19495312e+00,  1.60414430e+00,\n",
       "       -9.17206173e-01, -2.69653810e+00,  3.53097972e+00, -1.26948807e+00,\n",
       "       -2.34047482e+00,  2.05337678e+00,  2.72472235e+00, -2.42044093e+00,\n",
       "       -1.17910956e-01,  1.61089490e+00,  1.61851907e+00,  1.67241407e+00,\n",
       "       -3.97375125e+00, -5.77923011e+00, -5.07902349e+00, -3.07593045e+00,\n",
       "       -8.85333162e-01, -4.15529086e+00,  5.83811964e+00, -3.89928970e+00,\n",
       "        4.64149818e+00,  6.61109208e+00, -4.33516648e+00, -2.04652594e+00,\n",
       "        3.59206511e+00, -1.19799645e-01, -1.29842299e+00, -1.79373241e+00,\n",
       "        2.22473665e+00,  7.61969424e-01,  1.24429800e+00, -9.30238075e-01,\n",
       "       -5.09091587e+00, -3.99653660e+00, -2.84234320e+00, -2.46199283e-01,\n",
       "       -4.24391661e-01,  4.58209616e+00, -6.29345100e+00,  2.53102668e+00,\n",
       "        3.04509831e-01, -5.54747832e+00, -3.55132617e+00, -4.53752631e+00,\n",
       "        4.87830799e-01, -1.42943577e+00,  1.86997380e+00, -2.70937907e-01,\n",
       "       -1.78668890e+00,  9.83957876e-01, -4.62234711e+00, -2.69359532e+00,\n",
       "       -4.19338096e-01,  1.51771848e+00, -1.15838630e+00, -8.18367212e-01,\n",
       "        5.08572709e+00, -4.03743859e+00,  3.33871838e+00, -1.43969384e+00,\n",
       "        4.02271997e+00, -1.43509963e+00, -9.72322986e-01,  1.39556356e+00,\n",
       "       -1.27929076e+00, -2.86713373e+00,  3.66674172e-01,  2.29866891e+00,\n",
       "        3.98019678e+00,  2.00111730e+00,  1.33743496e+00, -4.37597364e+00,\n",
       "       -1.12260468e+00,  2.00726341e+00, -4.41996471e+00, -1.71504738e+00,\n",
       "       -2.67976736e+00,  4.07672357e+00,  4.34791985e+00,  5.35464390e+00,\n",
       "       -4.77046396e+00, -7.52161677e+00, -7.62872998e+00, -2.80254304e+00,\n",
       "        1.05165680e+00, -1.45055296e+00,  1.02632710e+00,  5.01222447e+00,\n",
       "       -1.16808765e-01, -4.36319505e+00,  1.67808571e+00,  4.37387310e-01,\n",
       "        1.55735334e+00,  1.08127473e+00, -6.73941901e-01,  5.30410866e+00,\n",
       "       -4.02490057e+00, -1.19097859e+00, -9.05394875e-01, -3.76077984e+00,\n",
       "       -1.19061892e+00, -2.01451728e+00,  1.14112823e+00, -5.26356198e+00,\n",
       "       -4.71885685e+00,  6.73365285e-02,  1.38489817e+00,  2.10073028e+00,\n",
       "       -3.11443362e+00,  3.24606422e+00, -2.69140702e+00, -2.58732432e+00,\n",
       "       -4.51200310e+00, -1.49850390e-02,  4.75162052e+00,  2.56614107e+00,\n",
       "        2.78355728e+00, -1.18945205e+00,  3.20919753e+00, -3.33523448e+00,\n",
       "       -1.31897741e+00, -1.82590580e+00,  4.54418694e+00,  5.07229306e-01,\n",
       "        5.99078005e-01, -1.01785999e-01, -4.48169469e+00, -1.22542510e-01,\n",
       "       -2.60629757e+00,  7.30442148e-01, -7.39461862e-02, -2.61850565e+00,\n",
       "        3.96329894e+00, -4.45660159e-01,  9.91239268e+00, -1.46716637e+00,\n",
       "        9.58772059e-01, -6.41621570e+00,  1.65996293e+00,  2.87246246e+00,\n",
       "        2.12878063e+00,  1.79590308e+00, -4.34219931e+00,  4.53404462e+00,\n",
       "        4.85434844e+00,  2.91998398e+00,  9.77865322e-01,  2.90005595e+00,\n",
       "        2.35899954e+00,  8.08758916e-01, -1.89704338e+00, -3.25738482e-01,\n",
       "       -1.72711820e+00, -3.46223121e+00, -4.72635606e+00,  1.86394592e+00,\n",
       "        5.17202048e+00, -2.28833616e+00,  2.24162108e+00,  3.99006077e+00,\n",
       "        5.05905952e+00,  3.34724116e+00, -4.30073984e+00, -4.08014532e-01,\n",
       "        2.71102374e+00, -9.74763171e-01,  1.69185043e+00, -8.10062028e+00,\n",
       "        4.79864932e-02,  7.11160223e-01, -3.51453390e+00, -3.23318904e+00,\n",
       "        2.00289529e-01,  4.21636528e+00, -2.84522370e-02, -1.67934293e+00,\n",
       "       -5.52761454e-01, -1.79964991e+00,  8.99061462e+00, -3.67896531e+00,\n",
       "        5.35187149e+00,  4.65920367e+00,  5.98046415e-01, -4.01652873e+00,\n",
       "       -8.24858916e+00,  2.89656789e+00,  5.67654536e-01, -1.61201808e+00,\n",
       "       -2.88169451e+00,  3.52834431e-01, -6.41072728e-01, -3.75677020e+00,\n",
       "        1.50957848e+00, -2.50778858e+00, -6.92605882e-01,  2.17900011e+00,\n",
       "       -1.76056472e+00, -2.71497607e+00, -3.25021768e+00, -5.22223491e+00,\n",
       "       -3.12509184e+00,  3.22745169e+00,  3.68966458e+00, -4.65857312e+00,\n",
       "        2.03168977e-01,  8.06979705e-03,  2.68782612e+00,  1.49369242e-01,\n",
       "        7.93119943e-01, -1.01197629e+00, -2.17729030e-01, -3.30851554e+00,\n",
       "        4.82233013e+00, -3.40083789e+00, -7.51510094e-01,  1.14098329e+00,\n",
       "       -1.73760341e+00, -1.97017023e+00, -1.24452353e+00, -1.04200974e+00,\n",
       "        3.69658832e+00,  8.77206724e-01, -3.28398810e-01, -3.08263829e+00,\n",
       "       -1.57421925e+00,  4.50463407e+00, -4.61961796e+00,  6.37037031e+00,\n",
       "       -4.59892480e-01, -3.53319040e+00,  1.80811704e-01,  4.50705144e-01,\n",
       "        1.34250919e+00,  4.59379664e+00,  4.08959322e+00, -2.24643928e+00,\n",
       "       -1.49527965e+00,  3.76461617e+00, -7.02668863e-01,  3.85413560e+00,\n",
       "        1.08764348e-01, -2.34502997e+00, -3.13542865e+00,  3.34185851e-01,\n",
       "       -6.13907320e+00,  6.24136576e+00, -3.01924900e-01, -7.06416151e-01,\n",
       "        3.34624856e-01,  2.01888900e+00, -1.02446843e+00, -5.96001579e+00,\n",
       "       -3.04292848e+00,  4.74255148e-02,  6.62706128e+00,  1.87490883e+00,\n",
       "        7.00150221e-01, -1.61382475e+00, -1.36705870e+00,  2.46843014e+00,\n",
       "       -6.42216577e-01,  2.77040595e+00,  3.83785960e+00, -3.23739368e+00,\n",
       "        3.77752123e+00, -6.11317090e+00,  5.49230335e+00, -2.41242146e+00,\n",
       "       -4.31045236e-01,  5.52570527e+00,  1.06957068e+00, -2.19626794e+00,\n",
       "       -5.73065865e-01, -4.81956806e-01,  4.17953797e-01, -8.64799258e-01,\n",
       "       -2.81677872e+00, -2.15294139e+00, -7.25806070e-01,  4.86422357e+00,\n",
       "        7.83864899e-01,  2.59377900e+00,  4.87294537e+00, -2.12506851e+00,\n",
       "       -5.33130592e-01, -2.93090124e-01, -2.77826140e+00,  7.44570292e-01,\n",
       "        5.04132471e-01,  3.72943838e+00,  1.60568477e+00,  2.05171319e+00,\n",
       "        4.21915739e-01,  3.39286955e-01,  1.30066243e+00, -4.06180016e+00,\n",
       "        3.16358863e+00,  2.82204077e+00,  4.35761163e-01, -7.71516335e-01,\n",
       "        3.06311647e+00, -2.79282030e+00,  1.12296958e+00, -1.24539990e+00,\n",
       "       -5.26448985e+00,  1.19547527e+00,  4.76137619e-01, -1.11121982e+00,\n",
       "       -5.72855539e+00, -1.04891023e+00, -1.14377585e+00, -3.76024422e+00,\n",
       "       -3.95079467e-01, -5.88673202e+00,  2.03499074e+00,  3.43367097e-01,\n",
       "        1.34971039e+00,  1.33211231e+00, -1.37060559e-01, -3.68479581e+00,\n",
       "        4.51111176e+00, -5.51303884e+00,  2.19031883e+00,  2.29548869e+00,\n",
       "        1.07871802e+00,  2.10782137e+00, -1.55682364e+00,  1.63599185e+00,\n",
       "       -3.44348288e+00, -3.18649111e+00, -4.77698782e+00,  1.94180835e-01,\n",
       "       -9.71212077e-01,  7.97408549e+00, -5.37963767e+00,  1.04837196e+00,\n",
       "        3.25757178e+00, -4.61479376e+00, -1.80982028e+00, -3.11549112e+00,\n",
       "        2.91130880e-01,  2.88446817e+00,  1.94825190e+00,  1.41991855e+00,\n",
       "       -3.28943674e+00, -2.74415271e+00, -1.44062914e+00, -4.51896103e+00,\n",
       "        3.25617396e+00, -4.61922871e+00,  8.43343348e+00,  3.55948598e+00,\n",
       "       -3.73094270e+00,  1.83973916e+00,  3.04394103e-01,  1.16978671e+00,\n",
       "        2.96049968e-01, -3.47268503e+00,  3.63376690e+00, -1.02385037e+00,\n",
       "       -9.72099230e-01,  3.88481578e+00,  1.15031120e+00,  6.66454630e+00,\n",
       "        2.21185615e+00, -4.47710544e-01,  7.34271409e-01,  4.09752373e+00,\n",
       "        6.41255004e-01, -1.50400502e+00, -2.12136688e+00,  3.32336037e+00,\n",
       "       -5.11425714e+00,  3.46895549e-01,  3.07633067e+00, -3.31802043e+00,\n",
       "        2.67932642e+00, -1.89293055e+00,  2.33349543e+00,  7.70237528e-01,\n",
       "       -4.46209945e+00, -7.37305469e-01,  1.01245559e+00,  5.73722376e+00,\n",
       "       -1.52227446e+00,  2.00755574e+00, -1.43681057e+00, -7.03210161e-01,\n",
       "        1.10696343e+00, -6.40361579e+00,  2.21806685e+00,  5.50996904e+00,\n",
       "       -1.93704198e-01,  1.29910177e+00,  1.05436539e+00, -3.65002042e+00,\n",
       "       -6.66740370e+00, -3.48768830e+00, -3.22863001e+00, -4.79553737e+00,\n",
       "        2.13153395e+00, -2.98585152e+00,  4.22259056e+00, -1.41131083e+00,\n",
       "        3.40526743e+00,  1.61124889e+00,  2.14197428e+00,  1.36380305e+00,\n",
       "       -1.30816035e-01, -3.40939956e-01,  2.89773430e+00,  1.40730858e+00,\n",
       "        1.19490396e+00,  3.96734538e+00,  1.53329503e+00, -4.18043331e+00,\n",
       "       -2.72956471e+00, -1.59142210e+00, -3.01520639e+00, -3.72417797e-01,\n",
       "       -3.67480378e-01,  4.95874907e+00,  3.74699704e+00,  1.41745949e+00,\n",
       "        6.49685667e-01,  2.52109540e+00,  3.18014437e+00,  2.51596810e+00,\n",
       "        2.07072338e+00,  1.16421494e+00,  2.19173379e+00,  1.43459582e-01,\n",
       "        2.47079537e+00,  4.86632896e-01,  8.97380193e-01,  2.74507348e-01,\n",
       "        2.78199306e-01,  2.56374585e-01,  3.41373518e+00,  6.30176035e-01,\n",
       "        5.33184470e+00,  2.56253480e+00,  3.09229172e+00,  4.24584370e-01,\n",
       "        8.54444340e-01,  8.59669287e-01,  6.47921793e-02,  3.67892754e-01,\n",
       "        5.37226005e-01,  1.98151554e-01,  1.27369858e+00,  2.38290650e-01,\n",
       "        3.25049964e+00,  1.46361201e+00,  4.01548849e+00,  1.12072604e+00,\n",
       "        3.64431750e-01,  2.28645426e+00,  1.50772044e+00,  2.01791573e+00,\n",
       "        1.75298987e+00,  1.27815338e+00,  5.92556705e+00,  1.01660138e+00,\n",
       "        1.54235139e+00,  4.86235227e+00,  6.84017530e-01,  1.93404590e-01,\n",
       "        1.02795297e+00,  3.00494246e+00,  2.42316092e+00,  1.32262011e+00,\n",
       "        4.70188259e-01,  1.15275389e+00,  4.96772114e-01,  1.22841610e+00])"
      ]
     },
     "execution_count": 29,
     "metadata": {},
     "output_type": "execute_result"
    }
   ],
   "source": [
    "norm = st.norm(0, 3)\n",
    "res = norm.rvs(950)\n",
    "buf = st.chi2.rvs(2, size=50)\n",
    "\n",
    "data = np.concatenate([res, buf])\n",
    "data"
   ]
  },
  {
   "cell_type": "markdown",
   "metadata": {},
   "source": [
    "### Провести статистический анализ полученной выборки: \n",
    "### 1) Вывести числовые статистики"
   ]
  },
  {
   "cell_type": "code",
   "execution_count": 30,
   "metadata": {},
   "outputs": [],
   "source": [
    "#Для возможности предобработки данных (например, исключения нечисловых значений) \n",
    "\n",
    "_data = data"
   ]
  },
  {
   "cell_type": "code",
   "execution_count": 31,
   "metadata": {},
   "outputs": [
    {
     "data": {
      "text/plain": [
       "0.02237727950139917"
      ]
     },
     "execution_count": 31,
     "metadata": {},
     "output_type": "execute_result"
    }
   ],
   "source": [
    "#Среднее\n",
    "\n",
    "np.mean(_data)"
   ]
  },
  {
   "cell_type": "code",
   "execution_count": 32,
   "metadata": {},
   "outputs": [
    {
     "data": {
      "text/plain": [
       "(-8.794891723770515, 9.912392677082423)"
      ]
     },
     "execution_count": 32,
     "metadata": {},
     "output_type": "execute_result"
    }
   ],
   "source": [
    "#Минимальный и максимальный элемент\n",
    "\n",
    "(np.min(_data), np.max(_data))"
   ]
  },
  {
   "cell_type": "code",
   "execution_count": 33,
   "metadata": {},
   "outputs": [
    {
     "data": {
      "text/plain": [
       "3.024067342786471"
      ]
     },
     "execution_count": 33,
     "metadata": {},
     "output_type": "execute_result"
    }
   ],
   "source": [
    "#Стандартное отклонение\n",
    "\n",
    "np.std(_data)"
   ]
  },
  {
   "cell_type": "code",
   "execution_count": 34,
   "metadata": {},
   "outputs": [
    {
     "data": {
      "text/plain": [
       "0.20172925326902436"
      ]
     },
     "execution_count": 34,
     "metadata": {},
     "output_type": "execute_result"
    }
   ],
   "source": [
    "#Медиана\n",
    "\n",
    "np.median(_data)"
   ]
  },
  {
   "cell_type": "code",
   "execution_count": 35,
   "metadata": {},
   "outputs": [
    {
     "data": {
      "text/plain": [
       "4.274548568212729"
      ]
     },
     "execution_count": 35,
     "metadata": {},
     "output_type": "execute_result"
    }
   ],
   "source": [
    "#Межквартильный размах(Interquartile range)\n",
    "from scipy.stats import iqr\n",
    "\n",
    "iqr(_data)"
   ]
  },
  {
   "cell_type": "code",
   "execution_count": 36,
   "metadata": {},
   "outputs": [
    {
     "data": {
      "text/plain": [
       "ModeResult(mode=array([-8.79489172]), count=array([1]))"
      ]
     },
     "execution_count": 36,
     "metadata": {},
     "output_type": "execute_result"
    }
   ],
   "source": [
    "#Мода\n",
    "import scipy.stats as st\n",
    "\n",
    "st.mode(_data)"
   ]
  },
  {
   "cell_type": "code",
   "execution_count": 37,
   "metadata": {},
   "outputs": [
    {
     "data": {
      "text/plain": [
       "-0.011438120969296812"
      ]
     },
     "execution_count": 37,
     "metadata": {},
     "output_type": "execute_result"
    }
   ],
   "source": [
    "#Асимметрия\n",
    "\n",
    "st.skew(_data)"
   ]
  },
  {
   "cell_type": "code",
   "execution_count": 38,
   "metadata": {},
   "outputs": [
    {
     "data": {
      "text/plain": [
       "-0.15301746456106313"
      ]
     },
     "execution_count": 38,
     "metadata": {},
     "output_type": "execute_result"
    }
   ],
   "source": [
    "#Эксцесс\n",
    "\n",
    "st.kurtosis(_data)"
   ]
  },
  {
   "cell_type": "markdown",
   "metadata": {},
   "source": [
    "### 2) Вывести гистограмму. \"ящик с усами\", график \"квантиль-квантиль\""
   ]
  },
  {
   "cell_type": "code",
   "execution_count": 39,
   "metadata": {},
   "outputs": [
    {
     "data": {
      "image/png": "[encoded data removed]",
      "text/plain": [
       "<Figure size 432x288 with 1 Axes>"
      ]
     },
     "metadata": {},
     "output_type": "display_data"
    }
   ],
   "source": [
    "#\"Ящик с усами\" (BoxPlot)\n",
    "\n",
    "fig, ax = plt.subplots()\n",
    "ax.boxplot(_data)\n",
    "plt.show()"
   ]
  },
  {
   "cell_type": "code",
   "execution_count": 40,
   "metadata": {},
   "outputs": [
    {
     "data": {
      "image/png": "[encoded data removed]",
      "text/plain": [
       "<Figure size 432x288 with 1 Axes>"
      ]
     },
     "metadata": {},
     "output_type": "display_data"
    }
   ],
   "source": [
    "#График \"квантиль-квантиль\"\n",
    "\n",
    "st.probplot(_data, dist=\"norm\", plot=plt)\n",
    "plt.show()"
   ]
  },
  {
   "cell_type": "markdown",
   "metadata": {},
   "source": [
    "### 3) Применить критерий Колмогорова-Смирнова и x^2 критерий Пирсона для тестирования гипотез согласия."
   ]
  },
  {
   "cell_type": "code",
   "execution_count": 41,
   "metadata": {},
   "outputs": [
    {
     "data": {
      "text/plain": [
       "KstestResult(statistic=0.03216648655124987, pvalue=0.2471689427002799)"
      ]
     },
     "execution_count": 41,
     "metadata": {},
     "output_type": "execute_result"
    }
   ],
   "source": [
    "#Критерий Колмогорова-Смирнова\n",
    "\n",
    "st.kstest(_data, 'norm', args=(0, 3))"
   ]
  },
  {
   "cell_type": "code",
   "execution_count": 42,
   "metadata": {},
   "outputs": [
    {
     "data": {
      "text/plain": [
       "(0.033514313252441794, 0.28969654894497554)"
      ]
     },
     "execution_count": 42,
     "metadata": {},
     "output_type": "execute_result"
    }
   ],
   "source": [
    "#Критерий хи-квадрат Пирсона(Pearson)\n",
    "\n",
    "normTest = st.norm(0, 3).rvs(1000)\n",
    "st.pearsonr(_data, normTest)"
   ]
  },
  {
   "cell_type": "code",
   "execution_count": null,
   "metadata": {},
   "outputs": [],
   "source": []
  }
 ],
 "metadata": {
  "kernelspec": {
   "display_name": "Python 3",
   "language": "python",
   "name": "python3"
  },
  "language_info": {
   "codemirror_mode": {
    "name": "ipython",
    "version": 3
   },
   "file_extension": ".py",
   "mimetype": "text/x-python",
   "name": "python",
   "nbconvert_exporter": "python",
   "pygments_lexer": "ipython3",
   "version": "3.6.5"
  }
 },
 "nbformat": 4,
 "nbformat_minor": 2
}
